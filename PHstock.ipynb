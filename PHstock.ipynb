{
  "cells": [
    {
      "cell_type": "markdown",
      "metadata": {
        "id": "view-in-github",
        "colab_type": "text"
      },
      "source": [
        "<a href=\"https://colab.research.google.com/github/roooooool/stockPH/blob/main/PHstock.ipynb\" target=\"_parent\"><img src=\"https://colab.research.google.com/assets/colab-badge.svg\" alt=\"Open In Colab\"/></a>"
      ]
    },
    {
      "cell_type": "code",
      "execution_count": 11,
      "metadata": {
        "id": "qQ6LahrxvMGm"
      },
      "outputs": [],
      "source": [
        "from datetime import date, timedelta, datetime\n",
        "from dateutil.relativedelta import relativedelta\n",
        "\n",
        "# minus 1 year\n",
        "def gettime():\n",
        "  beforeTimeDate = (datetime.now() - relativedelta(years=0,months=1))   #get date 30 days before now\n",
        "  before_date = beforeTimeDate.strftime('%Y-%m-%d')\n",
        "\n",
        "  current_date = date.today().isoformat()                      #get date now\n",
        "\n",
        "  r = [before_date,current_date]\n",
        "  print(before_date)\n",
        "  print(current_date)\n",
        "\n",
        "  return r"
      ]
    },
    {
      "cell_type": "code",
      "execution_count": 12,
      "metadata": {
        "id": "BuTAxbjF6c8I"
      },
      "outputs": [],
      "source": [
        "# Import smtplib for the actual sending function\n",
        "import smtplib\n",
        "from email.mime.text import MIMEText\n",
        "import io\n",
        "from email.encoders import encode_base64\n",
        "from email.mime.base import MIMEBase\n",
        "from email.mime.multipart import MIMEMultipart\n",
        "from email import encoders\n",
        "\n",
        "\n",
        "def send_email(subject, body, sender, recipients, password):  #method for sending email\n",
        "  msg = MIMEMultipart()\n",
        "  msg['Subject'] = subject          #subject\n",
        "  msg['From'] = sender              #sender\n",
        "  msg['To'] = ', '.join(recipients) #recipient\n",
        "\n",
        "  html_part = MIMEText(body)\n",
        "  msg.attach(html_part) #body text\n",
        "\n",
        "  part = MIMEBase('application', \"octet-stream\")\n",
        "  part.set_payload(buf.read())\n",
        "  encoders.encode_base64(part)\n",
        "  part.add_header('Content-Disposition', 'attachment; filename=\"%s\"' % 'stockdata.png')\n",
        "  msg.attach(part) #attachment\n",
        "\n",
        "  with smtplib.SMTP_SSL('smtp.gmail.com', 465) as smtp_server:\n",
        "      smtp_server.login(sender, password)\n",
        "      smtp_server.sendmail(sender, recipients, msg.as_string())\n",
        "  print(\"Message sent!\")"
      ]
    },
    {
      "cell_type": "code",
      "execution_count": 13,
      "metadata": {
        "id": "PBQaBI0wp67w"
      },
      "outputs": [],
      "source": [
        "import yfinance as yf\n",
        "def closing_price(ticker):\n",
        "    datedet = gettime()\n",
        "    Asset = pd.DataFrame(yf.download(ticker, start=datedet[0],\n",
        "      end=datedet[1])['Adj Close'])\n",
        "    return Asset"
      ]
    },
    {
      "cell_type": "code",
      "execution_count": null,
      "metadata": {
        "colab": {
          "base_uri": "https://localhost:8080/"
        },
        "id": "NlhUvjqIrEnY",
        "outputId": "e17be1ae-9a86-4479-b135-b0b05b3a413c"
      },
      "outputs": [
        {
          "output_type": "stream",
          "name": "stdout",
          "text": [
            "tick 1\n",
            "2023-11-26\n",
            "2023-12-26\n",
            "2023-11-26\n",
            "2023-12-26\n",
            "\r[*********************100%%**********************]  1 of 1 completed\n",
            "Message sent!\n"
          ]
        }
      ],
      "source": [
        "from matplotlib import pyplot as plt # Import pyplot from the matplotlib module\n",
        "import pandas as pd\n",
        "# from fastquant import get_pse_data\n",
        "# from fastquant import get_crypto_data\n",
        "# from fastquant import backtest\n",
        "import io\n",
        "import time\n",
        "\n",
        "buf = io.BytesIO()\n",
        "\n",
        "starttime = time.monotonic()\n",
        "count = 1\n",
        "while True:\n",
        "  print(f\"tick\",count)\n",
        "  datedet = gettime()\n",
        "  # current_date = \"2021-12-22\"\n",
        "  # before_date =  \"2020-12-22\"\n",
        "  current_date = datedet[1]\n",
        "  before_date =  datedet[0]\n",
        "  stock = \"TSLA\";\n",
        "  df = \"\"\n",
        "\n",
        "  #get the pricing data of {stock} Company\n",
        "  try:\n",
        "\n",
        "    df = closing_price(stock)\n",
        "    plt.plot(df)\n",
        "\n",
        "    title_text = f\"Daily Closing Prices vs 30 day SMA of {stock}\\nfrom {before_date} to {current_date}\"\n",
        "\n",
        "    # create a new figure\n",
        "    plt.title(title_text, fontsize=20)\n",
        "    plt.savefig(buf, format = 'png')\n",
        "    buf.seek(0)\n",
        "\n",
        "    # send email\n",
        "    subject = f\"Daily Closing Prices of {stock}\\nfrom {before_date} to {current_date}\"\n",
        "    body = str(df)\n",
        "    sender = \"christianerrolapolinariosinag@gmail.com\"\n",
        "    recipients = [\"euclidezlahnezyx@gmail.com\",\"aaron.opinaldo59@gmail.com\",\"jomar.david05@gmail.com\",\"romel.roco@santaisabel.edu.ph\"]\n",
        "    password = \"alfj ylal zbji ayqy\"\n",
        "\n",
        "    send_email(subject, body, sender, recipients, password)\n",
        "\n",
        "  except:\n",
        "    print(\"There's no changes in stock prices as of now\") #if there's no data returned\n",
        "\n",
        "  time.sleep((60.0*60*5) - ((time.monotonic() - starttime) % (60.0)))\n",
        "  count+=1"
      ]
    },
    {
      "cell_type": "markdown",
      "source": [
        "# New Section"
      ],
      "metadata": {
        "id": "NxLsWBcAFuWl"
      }
    },
    {
      "cell_type": "code",
      "source": [
        "passkosecret = \"alfj ylal zbji ayqy\""
      ],
      "metadata": {
        "id": "eybLLWMOFf4T"
      },
      "execution_count": null,
      "outputs": []
    }
  ],
  "metadata": {
    "colab": {
      "provenance": [],
      "include_colab_link": true
    },
    "kernelspec": {
      "display_name": "Python 3",
      "name": "python3"
    },
    "language_info": {
      "name": "python"
    }
  },
  "nbformat": 4,
  "nbformat_minor": 0
}