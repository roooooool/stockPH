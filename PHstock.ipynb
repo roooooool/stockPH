{
  "nbformat": 4,
  "nbformat_minor": 0,
  "metadata": {
    "colab": {
      "provenance": [],
      "authorship_tag": "ABX9TyM5wtrs1oyKS18kq63ELgOh",
      "include_colab_link": true
    },
    "kernelspec": {
      "name": "python3",
      "display_name": "Python 3"
    },
    "language_info": {
      "name": "python"
    }
  },
  "cells": [
    {
      "cell_type": "markdown",
      "metadata": {
        "id": "view-in-github",
        "colab_type": "text"
      },
      "source": [
        "<a href=\"https://colab.research.google.com/github/roooooool/stockPH/blob/main/PHstock.ipynb\" target=\"_parent\"><img src=\"https://colab.research.google.com/assets/colab-badge.svg\" alt=\"Open In Colab\"/></a>"
      ]
    },
    {
      "cell_type": "code",
      "source": [
        "from datetime import date, timedelta, datetime\n",
        "from dateutil.relativedelta import relativedelta\n",
        "\n",
        "# minus 1 year\n",
        "def gettime():\n",
        "  beforeTimeDate = (datetime.now() - relativedelta(years=1))   #get date 30 days before now\n",
        "  before_date = beforeTimeDate.strftime('%Y-%m-%d')\n",
        "\n",
        "  current_date = date.today().isoformat()                      #get date now\n",
        "\n",
        "  r = [before_date,current_date]\n",
        "  print(before_date)\n",
        "  print(current_date)\n",
        "\n",
        "  return r"
      ],
      "metadata": {
        "id": "qQ6LahrxvMGm"
      },
      "execution_count": 158,
      "outputs": []
    },
    {
      "cell_type": "code",
      "source": [
        "# Import smtplib for the actual sending function\n",
        "import smtplib\n",
        "from email.mime.text import MIMEText\n",
        "import io\n",
        "from email.encoders import encode_base64\n",
        "from email.mime.base import MIMEBase\n",
        "from email.mime.multipart import MIMEMultipart\n",
        "from email import encoders\n",
        "\n",
        "\n",
        "def send_email(subject, body, sender, recipients, password):  #method for sending email\n",
        "  msg = MIMEMultipart()\n",
        "  msg['Subject'] = subject          #subject\n",
        "  msg['From'] = sender              #sender\n",
        "  msg['To'] = ', '.join(recipients) #recipient\n",
        "\n",
        "  html_part = MIMEText(body)\n",
        "  msg.attach(html_part) #body text\n",
        "\n",
        "  part = MIMEBase('application', \"octet-stream\")\n",
        "  part.set_payload(buf.read())\n",
        "  encoders.encode_base64(part)\n",
        "  part.add_header('Content-Disposition', 'attachment; filename=\"%s\"' % 'stockdata.png')\n",
        "  msg.attach(part) #attachment\n",
        "\n",
        "  with smtplib.SMTP_SSL('smtp.gmail.com', 465) as smtp_server:\n",
        "      smtp_server.login(sender, password)\n",
        "      smtp_server.sendmail(sender, recipients, msg.as_string())\n",
        "  print(\"Message sent!\")\n"
      ],
      "metadata": {
        "id": "BuTAxbjF6c8I"
      },
      "execution_count": 138,
      "outputs": []
    },
    {
      "cell_type": "code",
      "source": [
        "from matplotlib import pyplot as plt # Import pyplot from the matplotlib module\n",
        "import pandas as pd\n",
        "from fastquant import get_pse_data\n",
        "from fastquant import get_crypto_data\n",
        "from fastquant import backtest\n",
        "import io\n",
        "import time\n",
        "\n",
        "buf = io.BytesIO()\n",
        "\n",
        "starttime = time.monotonic()\n",
        "count = 1\n",
        "while True:\n",
        "  print(f\"tick\",count)\n",
        "  datedet = gettime()\n",
        "  # current_date = \"2021-12-22\"\n",
        "  # before_date =  \"2020-12-22\"\n",
        "  current_date = datedet[1]\n",
        "  before_date =  datedet[0]\n",
        "  stock = \"BDO\";\n",
        "  df\n",
        "\n",
        "  #get the pricing data of {stock} Company\n",
        "  try:\n",
        "    df = get_pse_data(stock, before_date, current_date)\n",
        "    backtest('smac', df, fast_period=15, slow_period=40)\n",
        "    print(str(df.head()))\n",
        "\n",
        "    # Derive the 30 day SMA of JFC's closing prices\n",
        "    ma30 = df.close.rolling(30).mean()\n",
        "\n",
        "    # Combine the closing prices with the 30 day SMA\n",
        "    close_ma30 = pd.concat([df.close, ma30], axis=1).dropna()\n",
        "    close_ma30.columns = ['Closing Price', 'Simple Moving Average (30 day)']\n",
        "\n",
        "    close_ma30.plot(figsize=(10, 6)) # Plot the daily closing prices\n",
        "    title_text = f\"Daily Closing Prices vs 30 day SMA of {stock}\\nfrom {before_date} to {current_date}\"\n",
        "\n",
        "    # create a new figure\n",
        "    plt.title(title_text, fontsize=20)\n",
        "    plt.savefig(buf, format = 'png')\n",
        "    buf.seek(0)\n",
        "\n",
        "    # send email\n",
        "    subject = f\"Daily Closing Prices vs 30 day SMA of {stock}\\nfrom {before_date} to {current_date}\"\n",
        "    body = str(df.head())\n",
        "    sender = \"christianerrolapolinariosinag@gmail.com\"\n",
        "    recipients = [\"euclidezlahnezyx@gmail.com\",\"aaron.opinaldo59@gmail.com\",\"romel.roco@santaisabel.edu.ph\"]\n",
        "    password = \"alfj ylal zbji ayqy\"\n",
        "\n",
        "    send_email(subject, body, sender, recipients, password)\n",
        "\n",
        "  except:\n",
        "    print(\"There's no changes in stock prices as of now\") #if there's no data returned\n",
        "\n",
        "  time.sleep((60.0*5) - ((time.monotonic() - starttime) % (60.0)))\n",
        "  count+=1"
      ],
      "metadata": {
        "colab": {
          "base_uri": "https://localhost:8080/",
          "height": 331
        },
        "id": "NlhUvjqIrEnY",
        "outputId": "94bf62f6-8c6b-418e-f25e-9218fc07a47f"
      },
      "execution_count": 173,
      "outputs": [
        {
          "output_type": "stream",
          "name": "stdout",
          "text": [
            "tick 1\n",
            "2022-12-22\n",
            "2023-12-22\n"
          ]
        },
        {
          "output_type": "stream",
          "name": "stderr",
          "text": [
            "590it [01:06,  8.81it/s]\n"
          ]
        },
        {
          "output_type": "stream",
          "name": "stdout",
          "text": [
            "BDO not found in phisix after the first 10 date iterations!\n",
            "There's no changes in stock prices as of now\n"
          ]
        },
        {
          "output_type": "error",
          "ename": "KeyboardInterrupt",
          "evalue": "ignored",
          "traceback": [
            "\u001b[0;31m---------------------------------------------------------------------------\u001b[0m",
            "\u001b[0;31mKeyboardInterrupt\u001b[0m                         Traceback (most recent call last)",
            "\u001b[0;32m<ipython-input-173-9d023f877027>\u001b[0m in \u001b[0;36m<cell line: 13>\u001b[0;34m()\u001b[0m\n\u001b[1;32m     54\u001b[0m     \u001b[0mprint\u001b[0m\u001b[0;34m(\u001b[0m\u001b[0;34m\"There's no changes in stock prices as of now\"\u001b[0m\u001b[0;34m)\u001b[0m \u001b[0;31m#if there's no data returned\u001b[0m\u001b[0;34m\u001b[0m\u001b[0;34m\u001b[0m\u001b[0m\n\u001b[1;32m     55\u001b[0m \u001b[0;34m\u001b[0m\u001b[0m\n\u001b[0;32m---> 56\u001b[0;31m   \u001b[0mtime\u001b[0m\u001b[0;34m.\u001b[0m\u001b[0msleep\u001b[0m\u001b[0;34m(\u001b[0m\u001b[0;34m(\u001b[0m\u001b[0;36m60.0\u001b[0m\u001b[0;34m*\u001b[0m\u001b[0;36m5\u001b[0m\u001b[0;34m)\u001b[0m \u001b[0;34m-\u001b[0m \u001b[0;34m(\u001b[0m\u001b[0;34m(\u001b[0m\u001b[0mtime\u001b[0m\u001b[0;34m.\u001b[0m\u001b[0mmonotonic\u001b[0m\u001b[0;34m(\u001b[0m\u001b[0;34m)\u001b[0m \u001b[0;34m-\u001b[0m \u001b[0mstarttime\u001b[0m\u001b[0;34m)\u001b[0m \u001b[0;34m%\u001b[0m \u001b[0;34m(\u001b[0m\u001b[0;36m60.0\u001b[0m\u001b[0;34m)\u001b[0m\u001b[0;34m)\u001b[0m\u001b[0;34m)\u001b[0m\u001b[0;34m\u001b[0m\u001b[0;34m\u001b[0m\u001b[0m\n\u001b[0m\u001b[1;32m     57\u001b[0m   \u001b[0mcount\u001b[0m\u001b[0;34m+=\u001b[0m\u001b[0;36m1\u001b[0m\u001b[0;34m\u001b[0m\u001b[0;34m\u001b[0m\u001b[0m\n",
            "\u001b[0;31mKeyboardInterrupt\u001b[0m: "
          ]
        }
      ]
    }
  ]
}